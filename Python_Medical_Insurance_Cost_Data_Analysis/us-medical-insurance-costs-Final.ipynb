{
 "cells": [
  {
   "cell_type": "markdown",
   "metadata": {},
   "source": [
    "# U.S. Medical Insurance Costs"
   ]
  },
  {
   "cell_type": "markdown",
   "metadata": {},
   "source": [
    "This fictional csv dataset provided by Codecademy contains data of patients and their medical insurance costs in the United States. The dataset includes patients' ages, sex, bmi, number of children, smoker status (yes/no), geographic location (northeast, northwest, southeast, southwest), and their respective insurance charges.\n",
    "\n",
    "This notebook provides descriptive statistics about the full dataset, followed by an analysis of these questions:\n",
    "\n",
    "1. How does smoker status affect insurance charges and compare across geographic regions?\n",
    "2. How do women's insurance charges compare to men's?\n",
    "3. How do childless women's insurance charges compare to those of childless men?\n",
    "4. Assuming that a BMI of 30 or greater indicates obesity, how do insurance charges between obese and non-obese patients compare?\n",
    "5. What is the average insurance cost of patients under 50 years of age and over 50 years of age, respectively?"
   ]
  },
  {
   "cell_type": "markdown",
   "metadata": {},
   "source": [
    "## Load Data into Dictionary and Lists"
   ]
  },
  {
   "cell_type": "code",
   "execution_count": 3,
   "metadata": {},
   "outputs": [],
   "source": [
    "import csv\n",
    "\n",
    "#Function to get list of records, where each record is a dictionary\n",
    "def make_patient_info_lst(ins_file):\n",
    "    patient_info_lst = []\n",
    "    with open (ins_file) as csv_file:\n",
    "        csv_dict = csv.DictReader(csv_file)\n",
    "        for row in csv_dict:\n",
    "            patient_info_lst.append(row)\n",
    "    return patient_info_lst\n",
    "\n",
    "#Get list of records, where each record is a dictionary, for the full dataset\n",
    "full_dataset = make_patient_info_lst(r'C:\\Users\\Stina\\Documents\\Codecademy\\python-portfolio-project-starter-files\\python-portfolio-project-starter-files\\insurance.csv')\n",
    "\n",
    "#Function to get list of records, where each record is a dictionary, while controlling for one variable:\n",
    "def make_sliced_patient_info_lst(column_name, data_lst, control_operand, control_value):\n",
    "    new_dict_lst = []\n",
    "    for dict in data_lst:\n",
    "        for key, value in dict.items():\n",
    "            if key == column_name:\n",
    "                if control_operand == '==':\n",
    "                    control_condition = (value == control_value)\n",
    "                elif control_operand == '>':\n",
    "                    control_condition = (float(value) > control_value)\n",
    "                elif control_operand == '<':\n",
    "                    control_condition = (float(value) < control_value)\n",
    "                elif control_operand == '<=':\n",
    "                    control_condition = (float(value) <= control_value)\n",
    "                elif control_operand == '>=':\n",
    "                    control_condition = (float(value) >= control_value)\n",
    "                elif control_operand == '!=':\n",
    "                    control_condition = (value != control_value)\n",
    "                else:\n",
    "                    return \"Invalid operand, please pass in a boolean operator in string format for the control_operand argument.\"\n",
    "                if control_condition:\n",
    "                    new_dict_lst.append(dict)\n",
    "    return new_dict_lst\n",
    "\n",
    "#Function to put each column's data into its own list\n",
    "def load_list_data(patient_info_lst, column_name):\n",
    "    lst = []\n",
    "    for dict in patient_info_lst:\n",
    "        for key, value in dict.items():\n",
    "            if key == column_name:\n",
    "                lst.append(value)\n",
    "    return lst\n"
   ]
  },
  {
   "cell_type": "markdown",
   "metadata": {},
   "source": [
    "## Create Patient Info Class"
   ]
  },
  {
   "cell_type": "code",
   "execution_count": 14,
   "metadata": {},
   "outputs": [
    {
     "name": "stdout",
     "output_type": "stream",
     "text": [
      "In this dataset, 50.52% of patients are male and 49.48% are female.\n"
     ]
    }
   ],
   "source": [
    "class PatientInfo:\n",
    "    def __init__(self, dataset):\n",
    "        self.dataset = dataset\n",
    "        self.patients_ages = load_list_data(dataset, 'age')\n",
    "        self.patients_sexes = load_list_data(dataset, 'sex')\n",
    "        self.patients_bmis = load_list_data(dataset, 'bmi')\n",
    "        self.patients_num_children = load_list_data(dataset, 'children')\n",
    "        self.patients_smoker = load_list_data(dataset, 'smoker')\n",
    "        self.patients_regions = load_list_data(dataset, 'region')\n",
    "        self.patients_insurance_charges = load_list_data(dataset, 'charges')\n",
    "        \n",
    "    def male_female_ratio(self):\n",
    "        male_count = 0\n",
    "        female_count = 0\n",
    "        for sex in self.patients_sexes:\n",
    "            if sex == 'male':\n",
    "                male_count += 1\n",
    "            else:\n",
    "                female_count += 1\n",
    "        sum_total = male_count + female_count\n",
    "        male_percent = 100*male_count/sum_total\n",
    "        female_percent = 100*female_count/sum_total\n",
    "        return f\"In this dataset, {round(male_percent, 2)}% of patients are male and {round(female_percent, 2)}% are female.\"\n",
    "    \n",
    "    def smoker_nonsmoker_ratio(self):\n",
    "        smoker_count = 0\n",
    "        nonsmoker_count = 0\n",
    "        for status in self.patients_smoker:\n",
    "            if status == 'yes':\n",
    "                smoker_count += 1\n",
    "            else:\n",
    "                nonsmoker_count += 1\n",
    "        sum_total = smoker_count + nonsmoker_count\n",
    "        smoker_percent = 100*smoker_count/sum_total\n",
    "        nonsmoker_percent = 100*nonsmoker_count/sum_total\n",
    "        return f\"In this dataset, {round(smoker_percent, 2)}% of patients are smokers and {round(nonsmoker_percent, 2)}% are nonsmokers.\"\n",
    "    \n",
    "    def regions_ratio(self):\n",
    "        northeast_count = 0\n",
    "        northwest_count = 0\n",
    "        southeast_count = 0\n",
    "        southwest_count = 0\n",
    "        for region in self.patients_regions:\n",
    "            if region == \"northeast\":\n",
    "                northeast_count += 1\n",
    "            elif region == \"northwest\":\n",
    "                northwest_count += 1\n",
    "            elif region == \"southeast\":\n",
    "                southeast_count += 1\n",
    "            else:\n",
    "                southwest_count += 1\n",
    "        sum_total = northeast_count + northwest_count + southeast_count + southwest_count\n",
    "        northeast_percent = 100*northeast_count/sum_total\n",
    "        northwest_percent = 100*northwest_count/sum_total\n",
    "        southeast_percent = 100*southeast_count/sum_total\n",
    "        southwest_percent = 100*southwest_count/sum_total\n",
    "        return  f\"In this dataset, {round(northeast_percent, 2)}% of patients are from the northeast, {round(northwest_percent, 2)}% are from the northwest, {round(southeast_percent, 2)}% are from the southeast, and {round(southwest_percent, 2)}% are from the southwest.\"\n",
    "    \n",
    "    def average_age(self):\n",
    "        lst_length = len(self.patients_ages)\n",
    "        sum_total = 0\n",
    "        for item in self.patients_ages:\n",
    "            sum_total += float(item)\n",
    "        average = sum_total/lst_length\n",
    "        return f\"The average age of patients in this dataset is {round(average, 1)}.\"\n",
    "        \n",
    "    def average_bmi(self):\n",
    "        lst_length = len(self.patients_bmis)\n",
    "        sum_total = 0\n",
    "        for item in self.patients_bmis:\n",
    "            sum_total += float(item)\n",
    "        average = sum_total/lst_length\n",
    "        return f\"The average bmi of patients in this dataset is {round(average, 1)}.\"\n",
    "        \n",
    "        \n",
    "    def average_num_children(self):\n",
    "        lst_length = len(self.patients_num_children)\n",
    "        sum_total = 0\n",
    "        for item in self.patients_num_children:\n",
    "            sum_total += float(item)\n",
    "        average = sum_total/lst_length\n",
    "        return f\"The average number of children of patients in this dataset is {round(average, 1)}.\"\n",
    "        \n",
    "    def average_insurance_charges(self):\n",
    "        lst_length = len(self.patients_insurance_charges)\n",
    "        sum_total = 0\n",
    "        for item in self.patients_insurance_charges:\n",
    "            sum_total += float(item)\n",
    "        average = sum_total/lst_length\n",
    "        return f\"The average insurance charges for patients in this dataset are ${round(average, 2)}.\"\n",
    "            \n",
    "#Make full dataset an instance of PatientInfo class:\n",
    "all_insurance_data = PatientInfo(full_dataset)\n",
    "        "
   ]
  },
  {
   "cell_type": "markdown",
   "metadata": {},
   "source": [
    "### Overview of Full Dataset: Ratios and Averages"
   ]
  },
  {
   "cell_type": "code",
   "execution_count": 15,
   "metadata": {},
   "outputs": [
    {
     "name": "stdout",
     "output_type": "stream",
     "text": [
      "In this dataset, 50.52% of patients are male and 49.48% are female.\n",
      "In this dataset, 20.48% of patients are smokers and 79.52% are nonsmokers.\n",
      "In this dataset, 24.22% of patients are from the northeast, 24.29% are from the northwest, 27.2% are from the southeast, and 24.29% are from the southwest.\n",
      "The average age of patients in this dataset is 39.2.\n",
      "The average bmi of patients in this dataset is 30.7.\n",
      "The average number of children of patients in this dataset is 1.1.\n",
      "The average insurance charges for patients in this dataset are $13270.42.\n"
     ]
    }
   ],
   "source": [
    "print(all_insurance_data.male_female_ratio())\n",
    "print(all_insurance_data.smoker_nonsmoker_ratio())\n",
    "print(all_insurance_data.regions_ratio())\n",
    "print(all_insurance_data.average_age())\n",
    "print(all_insurance_data.average_bmi())\n",
    "print(all_insurance_data.average_num_children())\n",
    "print(all_insurance_data.average_insurance_charges())"
   ]
  },
  {
   "cell_type": "markdown",
   "metadata": {},
   "source": [
    "### Analysis Questions"
   ]
  },
  {
   "cell_type": "markdown",
   "metadata": {},
   "source": [
    "#### 1. How does smoker status affect insurance charges and compare across geographic regions?"
   ]
  },
  {
   "cell_type": "code",
   "execution_count": 33,
   "metadata": {},
   "outputs": [
    {
     "name": "stdout",
     "output_type": "stream",
     "text": [
      "Smokers: The average insurance charges for patients in this dataset are $32050.23.\n",
      "Non-mokers: The average insurance charges for patients in this dataset are $8434.27.\n",
      "Smokers: In this dataset, 24.45% of patients are from the northeast, 21.17% are from the northwest, 33.21% are from the southeast, and 21.17% are from the southwest.\n",
      "Non-smokers: In this dataset, 24.15% of patients are from the northeast, 25.09% are from the northwest, 25.66% are from the southeast, and 25.09% are from the southwest.\n"
     ]
    }
   ],
   "source": [
    "#Make sliced dataset and create class instance\n",
    "\n",
    "smokers_dataset = make_sliced_patient_info_lst('smoker', full_dataset, '==', 'yes')\n",
    "nonsmokers_dataset = make_sliced_patient_info_lst('smoker', full_dataset, '==', 'no')\n",
    "\n",
    "smokers = PatientInfo(smokers_dataset)\n",
    "nonsmokers = PatientInfo(nonsmokers_dataset)\n",
    "\n",
    "print(\"Smokers: \" + smokers.average_insurance_charges())\n",
    "print(\"Non-mokers: \" + nonsmokers.average_insurance_charges())\n",
    "print(\"Smokers: \" + smokers.regions_ratio())\n",
    "print(\"Non-smokers: \" + nonsmokers.regions_ratio())"
   ]
  },
  {
   "cell_type": "markdown",
   "metadata": {},
   "source": [
    "#### 2. How do women's insurance charges compare to men's?"
   ]
  },
  {
   "cell_type": "code",
   "execution_count": 25,
   "metadata": {},
   "outputs": [
    {
     "name": "stdout",
     "output_type": "stream",
     "text": [
      "Women: The average insurance charges for patients in this dataset are $12569.58.\n",
      "Men: The average insurance charges for patients in this dataset are $13956.75.\n"
     ]
    }
   ],
   "source": [
    "#Make sliced dataset and create class instance\n",
    "\n",
    "women_dataset = make_sliced_patient_info_lst('sex', full_dataset, '==', 'female')\n",
    "men_dataset = make_sliced_patient_info_lst('sex', full_dataset, '==', 'male')\n",
    "\n",
    "women = PatientInfo(women_dataset)\n",
    "men = PatientInfo(men_dataset)\n",
    "\n",
    "print(\"Women: \" + women.average_insurance_charges())\n",
    "print(\"Men: \" + men.average_insurance_charges())"
   ]
  },
  {
   "cell_type": "markdown",
   "metadata": {},
   "source": [
    "#### 3. How do childless women's insurance charges compare to those of childless men?"
   ]
  },
  {
   "cell_type": "code",
   "execution_count": 28,
   "metadata": {},
   "outputs": [
    {
     "name": "stdout",
     "output_type": "stream",
     "text": [
      "Patients without children: The average insurance charges for patients in this dataset are $12365.98.\n",
      "Patients with children: The average insurance charges for patients in this dataset are $13949.94.\n",
      "Women without children: The average insurance charges for patients in this dataset are $11905.71.\n",
      "Men with children: The average insurance charges for patients in this dataset are $12832.7.\n"
     ]
    }
   ],
   "source": [
    "#Create dataset, lists, and PatientInfo class instance\n",
    "childless_dataset = make_sliced_patient_info_lst('children', full_dataset, '==', '0')\n",
    "have_children_dataset = make_sliced_patient_info_lst('children', full_dataset, '>=', 1)\n",
    "childless_women_dataset = make_sliced_patient_info_lst('sex', childless_dataset, '==', 'female')\n",
    "childless_men_dataset = make_sliced_patient_info_lst('sex', childless_dataset, '==', 'male')\n",
    "\n",
    "childless = PatientInfo(childless_dataset)\n",
    "have_children = PatientInfo(have_children_dataset)\n",
    "childless_women = PatientInfo(childless_women_dataset)\n",
    "childless_men = PatientInfo(childless_men_dataset)\n",
    "\n",
    "print(\"Patients without children: \" + childless.average_insurance_charges())\n",
    "print(\"Patients with children: \" + have_children.average_insurance_charges())\n",
    "print(\"Women without children: \" + childless_women.average_insurance_charges())\n",
    "print(\"Men with children: \" + childless_men.average_insurance_charges())"
   ]
  },
  {
   "cell_type": "markdown",
   "metadata": {},
   "source": [
    "#### 4. Assuming that a BMI of 30 or greater indicates obesity, how do insurance charges between obese and non-obese patients compare?"
   ]
  },
  {
   "cell_type": "code",
   "execution_count": 29,
   "metadata": {},
   "outputs": [
    {
     "name": "stdout",
     "output_type": "stream",
     "text": [
      "Obese patients: The average insurance charges for patients in this dataset are $15552.34.\n",
      "Non-obese: The average insurance charges for patients in this dataset are $10713.67.\n"
     ]
    }
   ],
   "source": [
    "#Create dataset, lists, and PatientInfo class instance\n",
    "obese_dataset = make_sliced_patient_info_lst('bmi', full_dataset, '>=', 30)\n",
    "nonobese_dataset = make_sliced_patient_info_lst('bmi', full_dataset, '<', 30)\n",
    "\n",
    "obese = PatientInfo(obese_dataset)\n",
    "nonobese = PatientInfo(nonobese_dataset)\n",
    "\n",
    "print(\"Obese patients: \" + obese.average_insurance_charges())\n",
    "print(\"Non-obese: \" + nonobese.average_insurance_charges())"
   ]
  },
  {
   "cell_type": "markdown",
   "metadata": {
    "tags": []
   },
   "source": [
    "#### 5. What is the average insurance cost of patients under 50 years of age and over 50 years of age, respectively?"
   ]
  },
  {
   "cell_type": "code",
   "execution_count": 31,
   "metadata": {},
   "outputs": [
    {
     "name": "stdout",
     "output_type": "stream",
     "text": [
      "Under 50: The average insurance charges for patients in this dataset are $11399.1.\n",
      "Over 50: The average insurance charges for patients in this dataset are $17902.55.\n"
     ]
    }
   ],
   "source": [
    "#Create dataset, lists, and PatientInfo class instance\n",
    "under_50_dataset = make_sliced_patient_info_lst('age', full_dataset, '<', 50)\n",
    "over_50_dataset = make_sliced_patient_info_lst('age', full_dataset, '>=', 50)\n",
    "\n",
    "under_50 = PatientInfo(under_50_dataset)\n",
    "over_50 = PatientInfo(over_50_dataset)\n",
    "\n",
    "print(\"Under 50: \" + under_50.average_insurance_charges())\n",
    "print(\"Over 50: \" + over_50.average_insurance_charges())"
   ]
  },
  {
   "cell_type": "markdown",
   "metadata": {},
   "source": [
    "## Points of Caution"
   ]
  },
  {
   "cell_type": "markdown",
   "metadata": {},
   "source": [
    "In several categories, the dataset is skewed or not representative of the general U.S. population. Thus, the results of this analysis should be treated with caution. For example, only 4.29% of the patients are from the southwest region, one of the most densely populated area in the United States. Only one fifth of patient records are from smokers. Thus, there is a lot more data available on nonsmokers than smokers. The insights about smokers may need to be considered with more caution that those about nonsmokers.\n",
    "\n",
    "This analysis did not examine the distribution of continuous variables like age, BMI, or number of children to identify skewed data or outliers at play. Taking weight as an example, the analysis did not take a closer look at other important conditions like severe obesity or being underweight. The simple obese/non-obese distinction may not identify all underlying factors at play between patients' weight and health."
   ]
  },
  {
   "cell_type": "markdown",
   "metadata": {},
   "source": [
    "## Discussion & Needs for Further Research"
   ]
  },
  {
   "cell_type": "markdown",
   "metadata": {},
   "source": [
    "According to this dataset, smoking is roughly equally common across geographic regions of the U.S. Obesity, smoker status, and age appear to be significant factors in predicting patients' insurance charges. Sex and having children, on the other hand, does not seem to be a major determinant of healthcare costs.\n",
    "\n",
    "Further analysis is needed to examine the dataset and derive insights that are statistically significant and that stakeholders can utilize to make decisions with more confidence. The distribution of variables needs to be examined more closely. Two-tailed and one-tailed t-tests would allow analysts to identify correlations that are truly significant. Furthermore, an awareness of variables' distributions will aid in deciding for which variables to control when running t-tests as well as defining more patient categories for continuous variables.\n",
    "\n",
    "If tasked to keep analyzing these patients' records, I would try to find data on their socioeconomic status and race, factors that have historically shown to be significant determinants of health. I would also try to draw a difference between insurance-covered charges and out-of-pocket expenses. Analyzing these variables, I would try to control for availability of healthcare resources in a given radius of a patient's home in order to gain insight into the importance of access to geographic and financial access to care.\n",
    "\n",
    "I am looking forward to further growing my skillset in research, data collection, data analysis, and automation tools like machine learning models to be able to gather insights about our society and economy that inform and empower social equity."
   ]
  }
 ],
 "metadata": {
  "kernelspec": {
   "display_name": "Python 3 (ipykernel)",
   "language": "python",
   "name": "python3"
  },
  "language_info": {
   "codemirror_mode": {
    "name": "ipython",
    "version": 3
   },
   "file_extension": ".py",
   "mimetype": "text/x-python",
   "name": "python",
   "nbconvert_exporter": "python",
   "pygments_lexer": "ipython3",
   "version": "3.9.13"
  }
 },
 "nbformat": 4,
 "nbformat_minor": 4
}
