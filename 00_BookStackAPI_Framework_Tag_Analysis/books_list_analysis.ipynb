{
 "cells": [
  {
   "cell_type": "markdown",
   "metadata": {},
   "source": [
    "### Import packages"
   ]
  },
  {
   "cell_type": "code",
   "execution_count": 1,
   "metadata": {},
   "outputs": [],
   "source": [
    "import json\n",
    "import pandas as pd\n",
    "import bookstack"
   ]
  },
  {
   "cell_type": "markdown",
   "metadata": {},
   "source": [
    "### Set up BookStack API wrapper"
   ]
  },
  {
   "cell_type": "code",
   "execution_count": 2,
   "metadata": {},
   "outputs": [],
   "source": [
    "base_url = 'https://wiki.turtuga.eu/api'\n",
    "token_id = 'WfNFsvGl6jXItRhmY7XiByT0CBgYtEvY'\n",
    "token_secret = '5QsMCen9jRKXHwmuA2KsqpElM5sAY0pW'\n",
    "\n",
    "api = bookstack.BookStack(base_url, token_id=token_id, token_secret=token_secret)\n",
    "\n",
    "api.generate_api_methods()\n",
    "\n",
    "books_list = api.get_books_list()\n",
    "list_of_dicts = books_list['data']\n",
    "\n",
    "pages_list = api.get_pages_list()\n",
    "list_of_pages = pages_list['data']\n",
    "\n",
    "##Examine available methods\n",
    "#print(api.available_api_methods)\n",
    "#print(len(list_of_pages))"
   ]
  },
  {
   "cell_type": "markdown",
   "metadata": {},
   "source": [
    "### Create DataFrame with pandas"
   ]
  },
  {
   "cell_type": "code",
   "execution_count": 8,
   "metadata": {},
   "outputs": [],
   "source": [
    "keys_list = list(list_of_dicts[0])\n",
    "\n",
    "def get_dict_for_panda(list_of_dicts, keys_list):\n",
    "    dict_for_panda = {}\n",
    "    for el in keys_list:\n",
    "        sub_list = []\n",
    "        for dict in list_of_dicts:\n",
    "            sub_list.append(dict[el])\n",
    "        dict_for_panda[el] = sub_list\n",
    "    return dict_for_panda\n",
    "\n",
    "dict_for_panda = get_dict_for_panda(list_of_dicts, keys_list)\n",
    "\n",
    "books_df = pd.DataFrame(dict_for_panda)\n",
    "\n",
    "#Inspect first 5 rows of DataFrame\n",
    "##print(books_df.head())"
   ]
  }
 ],
 "metadata": {
  "kernelspec": {
   "display_name": "Python 3 (ipykernel)",
   "language": "python",
   "name": "python3"
  },
  "language_info": {
   "codemirror_mode": {
    "name": "ipython",
    "version": 3
   },
   "file_extension": ".py",
   "mimetype": "text/x-python",
   "name": "python",
   "nbconvert_exporter": "python",
   "pygments_lexer": "ipython3",
   "version": "3.9.13"
  },
  "vscode": {
   "interpreter": {
    "hash": "fe5bb78035b8d7870f3f5818b09a1ca1d8be0f38bca2853cea3caa36cea6db24"
   }
  }
 },
 "nbformat": 4,
 "nbformat_minor": 2
}
