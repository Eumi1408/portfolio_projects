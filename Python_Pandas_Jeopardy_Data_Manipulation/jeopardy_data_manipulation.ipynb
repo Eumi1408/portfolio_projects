{
 "cells": [
  {
   "cell_type": "markdown",
   "id": "bfc0f5d7",
   "metadata": {},
   "source": [
    "## Jeopardy! Data Manipulation with Pandas"
   ]
  },
  {
   "cell_type": "markdown",
   "id": "f4ec702a",
   "metadata": {},
   "source": [
    "This real-world, completely unmodified dataset of *Jeopardy!* questions and answers was provided by Codecademy as part of a data analytics course. *Jeopardy!* is a trivia show in which the the question is given as a descriptive clue and participants answer with an actual question. For example:\n",
    "\n",
    "**Question**: This Python package helps data scientists inspect, manipulate, and analyze data efficiently.\n",
    "**Answer**: What is Pandas?\n",
    "\n",
    "Each question and answer are associated with a category and a dollar reward value as well as a date and number identifying the show in which it was used. Further, each question is part of a round, either *Jeopardy!* or *Double Jeopardy!*, where *Double Jeopardy!* questions have twice the amount of value as those in the *Jeopardy!* round.\n",
    "\n",
    "While the prompts were given by Codecademy, all of the code and text are my own thinking and writing.\n",
    "\n",
    "To review sample outputs, please uncomment (remove '##') in front of the print statements. Then, click 'Run' in the toolbar above or hit `Ctrl+Enter` on your keyboard."
   ]
  },
  {
   "cell_type": "markdown",
   "id": "ac0c7890",
   "metadata": {},
   "source": [
    "### Load dataset and inspect data"
   ]
  },
  {
   "cell_type": "code",
   "execution_count": 20,
   "id": "266e3d6e",
   "metadata": {},
   "outputs": [],
   "source": [
    "#Import pandas library\n",
    "import pandas as pd\n",
    "\n",
    "#Ensure full contents of columns will be displayed\n",
    "pd.set_option('display.max_colwidth', None)\n",
    "\n",
    "#Load csv file into DataFrame\n",
    "df = pd.read_csv('jeopardy.csv')\n",
    "\n",
    "#Inspect data\n",
    "##print(df.head())"
   ]
  },
  {
   "cell_type": "markdown",
   "id": "fa79f120",
   "metadata": {},
   "source": [
    "### Clean up column names"
   ]
  },
  {
   "cell_type": "code",
   "execution_count": 21,
   "id": "5ffbf7b7",
   "metadata": {},
   "outputs": [],
   "source": [
    "#Rename columns for easier coding in analysis of columns\n",
    "df.rename(columns={\n",
    "  'Show Number': 'show_number',\n",
    "  ' Air Date': 'air_date',\n",
    "  ' Round': 'round',\n",
    "  ' Category': 'category',\n",
    "  ' Value': 'value',\n",
    "  ' Question': 'question',\n",
    "  ' Answer': 'answer'}, inplace=True)\n",
    "\n",
    "#Inspect new column names by looking at them in one list\n",
    "column_names = df.columns.values.tolist()\n",
    "##print(column_names)"
   ]
  },
  {
   "cell_type": "markdown",
   "id": "3873ca03",
   "metadata": {},
   "source": [
    "### Filter dataset for a given list of words"
   ]
  },
  {
   "cell_type": "markdown",
   "id": "57e17174",
   "metadata": {},
   "source": [
    "While the category column is helpful to study general topics, it would be interesting to dig a little deeper and be able to explore hunches about keywords that may appear more frequently on *Jeopardy!* than others. Perhaps questions are skewed towards subjects of European American, European, or English culture. For someone participating on the show, a similar analysis could guide preparation efforts."
   ]
  },
  {
   "cell_type": "code",
   "execution_count": 17,
   "id": "4a318b4d",
   "metadata": {},
   "outputs": [],
   "source": [
    "#Function returning a new dataframe of a specified column whose values contain one or more words in the list\n",
    "def filter_by_words_values(dataframe, col, lst):\n",
    "  lst = [item.lower() for item in lst]\n",
    "  new_df = pd.DataFrame(columns = [col])\n",
    "  for i in dataframe[col]:\n",
    "    i = i.lower()\n",
    "    for el in lst:\n",
    "      if el in i:\n",
    "        new_row = pd.DataFrame([i], columns=[col])\n",
    "        new_df = pd.concat([new_row,new_df],  axis=0, ignore_index=True)\n",
    "        break\n",
    "  return new_df\n",
    "\n",
    "#Function returning the number of values in a specified column that contain one or more words in the list\n",
    "def filter_by_words_number(dataframe, col, lst):\n",
    "  lst = [item.lower() for item in lst]\n",
    "  new_df = pd.DataFrame(columns = [col])\n",
    "  for i in dataframe[col]:\n",
    "    i = i.lower()\n",
    "    for el in lst:\n",
    "      if el in i:\n",
    "        new_row = pd.DataFrame([i], columns=[col])\n",
    "        new_df = pd.concat([new_row,new_df],  axis=0, ignore_index=True)\n",
    "        break\n",
    "  return len(new_df)\n",
    "\n",
    "#Testing functions for 'question' column\n",
    "lst1 = ['Europe', 'European']\n",
    "lst2 = ['Asia', 'Asian']\n",
    "lst3 = ['Africa', 'African']\n",
    "##print(filter_by_words_values(df, 'question', lst1))\n",
    "##print(filter_by_words_number(df, 'question', lst2))\n",
    "##print(filter_by_words_number(df, 'question', lst3))"
   ]
  },
  {
   "cell_type": "markdown",
   "id": "054188c3",
   "metadata": {},
   "source": [
    "#### Reflection"
   ]
  },
  {
   "cell_type": "markdown",
   "id": "ab780d94",
   "metadata": {},
   "source": [
    "After building the functions above, I thought of two other features I could have created. \n",
    "\n",
    "I thought about how I could make sure that the functions will only consider the word in itself and not as a substring of another word (e.g. 'story' in 'history'). I would find the start and end indeces of `el` and `i`. If the index, if it exists, before and after `el` in `i` is **not** a letter of the alphabet, `i` would get added to the resulting DataFrame, otherwise not.\n",
    "\n",
    "It could also be very interesting to have a function return the column values that contain *all* of the words in the list passed in. I would remove the loop iterating through each list item, change the if-condition to `if all(el in i for el in lst):`, and remove the `break` statement to do this."
   ]
  },
  {
   "cell_type": "markdown",
   "id": "80ccf851",
   "metadata": {},
   "source": [
    "### Convert 'value' column to floats in order to perform calculations"
   ]
  },
  {
   "cell_type": "markdown",
   "id": "d039de10",
   "metadata": {},
   "source": [
    "One major incentive to do well on *Jeopardy!* is money! If we want to find out which topics and keywords are associated with higher rewards than others, we need to consult the 'value' column along with questions and answers. This analysis could again uncover patterns or help a participant prepare for the most rewarding questions. The current 'value' column contains $ signs and decimal places, making it impossible to perform calculations with this column's data."
   ]
  },
  {
   "cell_type": "code",
   "execution_count": 4,
   "id": "c84df41b",
   "metadata": {},
   "outputs": [],
   "source": [
    "#Build function converting values with `$` signs and/or decimal places to floats\n",
    "def str_to_float(x):\n",
    "  if x == 'None':\n",
    "    return 0\n",
    "  else:\n",
    "   x = x.strip(\"$\")\n",
    "   x = x.replace(\",\", \"\")\n",
    "   x = float(x)\n",
    "   return x\n",
    "\n",
    "#Create a new column for the float values called number_values\n",
    "df['number_value'] = df.value.apply(str_to_float)\n",
    "\n",
    "#Test results\n",
    "##print(df['number_value'])"
   ]
  },
  {
   "cell_type": "markdown",
   "id": "61aa3651",
   "metadata": {},
   "source": [
    "### Function to obtain average value of questions containing a word"
   ]
  },
  {
   "cell_type": "code",
   "execution_count": 5,
   "id": "47b806d6",
   "metadata": {},
   "outputs": [],
   "source": [
    "def avg_value_of_words(dataframe, col, word):\n",
    "  dataframe[col] = dataframe[col].apply(str.lower)\n",
    "  filtered_qs =  filter_by_words_values(dataframe, col, [word])\n",
    "  merged_df = pd.merge(filtered_qs, dataframe)\n",
    "  return round(merged_df['number_value'].mean(), 2)\n",
    "\n",
    "#To test function, compare average value of questions containing 'German' to those containing 'English'\n",
    "##print(avg_value_of_words(df, 'question', \"German\"))\n",
    "##print(avg_value_of_words(df, 'question', \"English\"))"
   ]
  },
  {
   "cell_type": "markdown",
   "id": "5efa8cc3",
   "metadata": {},
   "source": [
    "### Compare unique categories and their frequency by round (Jeopardy! vs. Double Jeopardy!)"
   ]
  },
  {
   "cell_type": "markdown",
   "id": "d8e12edc",
   "metadata": {},
   "source": [
    "The relative relationship between topics and reward can also be studied with the data of the 'round' column."
   ]
  },
  {
   "cell_type": "code",
   "execution_count": 23,
   "id": "b061f646",
   "metadata": {},
   "outputs": [],
   "source": [
    "def category_and_round(dataframe, cat):\n",
    "  cat = cat.lower()\n",
    "  singlej = dataframe[dataframe['round'] == 'Jeopardy!']\n",
    "  doublej = dataframe[dataframe['round'] == 'Double Jeopardy!']\n",
    "  singlej_count = filter_by_words_number(singlej, 'category', [cat])\n",
    "  doublej_count = filter_by_words_number(doublej, 'category', [cat])\n",
    "  return singlej_count, doublej_count\n",
    "\n",
    "#print(category_and_round(df, 'history'))"
   ]
  },
  {
   "cell_type": "markdown",
   "id": "c1ad2df6",
   "metadata": {},
   "source": [
    "#### Reflection"
   ]
  },
  {
   "cell_type": "markdown",
   "id": "5c9287e4",
   "metadata": {},
   "source": [
    "One way to dig deeper into this analysis could be to search by specific keywords in questions rather than categories. The filter functions above would help perform this task.\n",
    "\n",
    "One point of caution here is that categories that frequently appear in the double category might not necessarily be the most lucrative questions. What is the actual size of the values that are doubled? How does their mean compare to that of other categories or keywords?\n",
    "In turn, `category_and_round` gives us food for thought on the interpretations of the `avg_value_of_words` function. `avg_value_of_words`, as I wrote it, does not take the round into consideration. I could add a column of `total_value`, where `value` gets doubled if the round is 'Double Jeopardy!' to explore this relationship. This would allow me to modify `avg_value_of_words` to adjust for the round, rendering it a more helpful function to study dollar amounts than `category_and_round`. The results of `category_and_round` still provide interesting information on the kinds of prompts that are more likely to appear in a 'Double Jeopardy!' round and are thus subject to more excitement and pressure on the show."
   ]
  },
  {
   "cell_type": "markdown",
   "id": "20d50552",
   "metadata": {},
   "source": [
    "### Function that returns the count of each unique answer to questions containing a certain word"
   ]
  },
  {
   "cell_type": "markdown",
   "id": "afdd4922",
   "metadata": {},
   "source": [
    "General topics such as 'Ancient History' or 'English Literature' are helpful to get an idea of the question/answer pair that is about to be prompted. Furthermore, it would be interesting to explore whether *Jeopardy!* questions of a certain category tend to gravitate around very specific figures, places, art pieces, etc. While certainly a helpful preparation tool, this function could help show writers diversify their prompts by learning which topics may have been over-used in the past. As a result, the show would become less predictable, more inclusive, and more challenging since doing well will require a broader range of knowledge."
   ]
  },
  {
   "cell_type": "code",
   "execution_count": 15,
   "id": "dc18cc35",
   "metadata": {},
   "outputs": [],
   "source": [
    "def unique_answer_count(dataframe, col1, col2, word):\n",
    "    dataframe[col1] = dataframe[col1].astype(str)\n",
    "    dataframe[col2] = dataframe[col2].astype(str)\n",
    "    dataframe[col1] = dataframe[col1].apply(str.lower)\n",
    "    dataframe[col2] = dataframe[col2].apply(str.lower)\n",
    "    word = word.lower()\n",
    "    filtered_qs =  filter_by_words_values(dataframe, col1, [word])\n",
    "    merged_df = pd.merge(filtered_qs, dataframe)\n",
    "    return merged_df[col2].value_counts()\n",
    "\n",
    "#Test function\n",
    "##print(unique_answer_count(df, 'question', 'answer', 'English'))"
   ]
  },
  {
   "cell_type": "markdown",
   "id": "79bafaff",
   "metadata": {},
   "source": [
    "### Examine frequency of a word in a column by a given decade"
   ]
  },
  {
   "cell_type": "markdown",
   "id": "e554f073",
   "metadata": {},
   "source": [
    "Has *Jeopardy!* evolved with the tides of time and thus stayed relevant for the knowledge carried by multiple generations? As a result, would it be more fruitful to study more recent datasets than older ones?"
   ]
  },
  {
   "cell_type": "code",
   "execution_count": 22,
   "id": "56b16e76",
   "metadata": {},
   "outputs": [],
   "source": [
    "def filter_by_word_and_decade(dataframe, col1, col2, word, decade):\n",
    "  word = word.lower()\n",
    "  dataframe[col1] = dataframe[col1].apply(str.lower)\n",
    "  dataframe[col2] = dataframe[col2].apply(lambda x: x[0:3])\n",
    "  new_df = dataframe[(dataframe[col2] == decade[0:3]) & (dataframe[col1].str.contains(word))]\n",
    "  return len(new_df)\n",
    "\n",
    "##print(filter_by_word_and_decade(df, 'question', 'air_date', \"Computer\", '2000'))\n",
    "##print(filter_by_word_and_decade(df, 'question', 'air_date', \"Computer\", '1990'))"
   ]
  }
 ],
 "metadata": {
  "kernelspec": {
   "display_name": "Python 3 (ipykernel)",
   "language": "python",
   "name": "python3"
  },
  "language_info": {
   "codemirror_mode": {
    "name": "ipython",
    "version": 3
   },
   "file_extension": ".py",
   "mimetype": "text/x-python",
   "name": "python",
   "nbconvert_exporter": "python",
   "pygments_lexer": "ipython3",
   "version": "3.9.13"
  }
 },
 "nbformat": 4,
 "nbformat_minor": 5
}
